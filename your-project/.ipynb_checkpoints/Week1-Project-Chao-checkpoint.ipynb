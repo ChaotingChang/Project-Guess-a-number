{
 "cells": [
  {
   "cell_type": "code",
   "execution_count": 1,
   "metadata": {},
   "outputs": [],
   "source": [
    "import random"
   ]
  },
  {
   "cell_type": "code",
   "execution_count": 69,
   "metadata": {},
   "outputs": [],
   "source": [
    "# Define the range of number we want to guess\n",
    "Range_min = 1\n",
    "Range_max = 10"
   ]
  },
  {
   "cell_type": "code",
   "execution_count": 70,
   "metadata": {},
   "outputs": [],
   "source": [
    "# Define a max times one can guess\n",
    "Max_guess_time = 3"
   ]
  },
  {
   "cell_type": "code",
   "execution_count": 71,
   "metadata": {},
   "outputs": [],
   "source": [
    "# Let the PC randomly create a number between 1-10 for guess\n",
    "def pc_define_number():\n",
    "    Number_to_guess = random.randint(Range_min, Range_max)\n",
    "    return Number_to_guess"
   ]
  },
  {
   "cell_type": "code",
   "execution_count": 94,
   "metadata": {},
   "outputs": [],
   "source": [
    "# Now it's our time to guess a number. Input a number we guess\n",
    "def give_a_guess():\n",
    "    while True:  # This is to make the loop come back if the input is not a integer\n",
    "        Number_I_guess = input(\"Please guess a number between 1 and 10: \")\n",
    "        try:\n",
    "            value = int(Number_I_guess)\n",
    "            if (int(Number_I_guess) >= Range_min and int(Number_I_guess) <= Range_max):\n",
    "                return Number_I_guess\n",
    "            else:\n",
    "                print(\"You can only choose a integer number between {} and {}\".format(Range_min, Range_max))\n",
    "        except ValueError:\n",
    "            print(\"This is not a number! Please only input a number between {} and {}\".format(Range_min, Range_max))"
   ]
  },
  {
   "cell_type": "code",
   "execution_count": 77,
   "metadata": {},
   "outputs": [],
   "source": [
    "def guess_a_number():\n",
    "    count = 0\n",
    "    bingo = 0\n",
    "    Result = pc_define_number()  \n",
    "    while (count < Max_guess_time) and (bingo == 0):\n",
    "        Guess = int(give_a_guess())\n",
    "        if Result == Guess:\n",
    "            bingo += 1        \n",
    "        elif Result < Guess:\n",
    "            count += 1\n",
    "            print(\"Maybe a bit lower?\")\n",
    "        else:\n",
    "            count += 1\n",
    "            print(\"hahaha, I am bigger than your guess~\") \n",
    "\n",
    "    if bingo == 1:\n",
    "        print(\"Bingo!! You should buy a lottery!\")\n",
    "    else:\n",
    "        print(\"You didn't guess the number, the correct answer is {}\".format(Result))"
   ]
  },
  {
   "cell_type": "code",
   "execution_count": 78,
   "metadata": {},
   "outputs": [
    {
     "name": "stdout",
     "output_type": "stream",
     "text": [
      "Please guess a number between 1 and 10: 4\n",
      "hahaha, I am bigger than your guess~\n",
      "Please guess a number between 1 and 10: 7\n",
      "Bingo!! You should buy a lottery!\n"
     ]
    }
   ],
   "source": [
    "#print(\"Welcome to the 'Guess A Number' game! You need to guess a number between {} and {} in three times\".format(Range_min, Range_max))\n",
    "\n",
    "guess_a_number()"
   ]
  },
  {
   "cell_type": "markdown",
   "metadata": {},
   "source": [
    "-----------"
   ]
  },
  {
   "cell_type": "markdown",
   "metadata": {},
   "source": [
    "------------"
   ]
  },
  {
   "cell_type": "markdown",
   "metadata": {},
   "source": [
    "## Extra Game"
   ]
  },
  {
   "cell_type": "code",
   "execution_count": 114,
   "metadata": {},
   "outputs": [],
   "source": [
    "# Define the range of number we want to guess\n",
    "Range_min = 1\n",
    "Range_max = 50"
   ]
  },
  {
   "cell_type": "code",
   "execution_count": 115,
   "metadata": {},
   "outputs": [],
   "source": [
    "# Define a max times one can guess\n",
    "Max_guess_time = 5"
   ]
  },
  {
   "cell_type": "code",
   "execution_count": 116,
   "metadata": {},
   "outputs": [],
   "source": [
    "# Let the PC randomly create a number between Range_min and Range_max for guess\n",
    "def pc_define_number():\n",
    "    Number_to_guess = random.randint(Range_min, Range_max)\n",
    "    residue_by_3 = Number_to_guess % 3\n",
    "    residue_by_7 = Number_to_guess % 7\n",
    "    if (residue_by_3 == 0) and (residue_by_7 == 0):\n",
    "        print(\"Hint: This number can be devided by 3 and 7\")\n",
    "    elif (residue_by_3 == 0) and (residue_by_7 != 0):\n",
    "        print(\"Hint: This number can be devided by 3 but not by 7. If you devide this number by 7, the residue is \" + str(Number_to_guess % 7))\n",
    "        \n",
    "    elif (residue_by_3 != 0) and (residue_by_7 == 0):\n",
    "        print(\"Hint: This number can be devided by 7 but not by 3. If you devide this number by 3, the residue is \" + str(Number_to_guess % 3))\n",
    "    else:\n",
    "        print(\"Hint: This number can not be devided by 3 or 7\")\n",
    "    return Number_to_guess\n",
    "    "
   ]
  },
  {
   "cell_type": "code",
   "execution_count": 117,
   "metadata": {},
   "outputs": [],
   "source": [
    "# Now it's our time to guess a number. Input a number we guess\n",
    "def give_a_guess():\n",
    "    while True:  # This is to make the loop come back if the input is not a integer\n",
    "        Number_I_guess = input(\"Please guess a number: \")\n",
    "        try:\n",
    "            value = int(Number_I_guess)\n",
    "            if (int(Number_I_guess) >= Range_min and int(Number_I_guess) <= Range_max):\n",
    "                return Number_I_guess\n",
    "            else:\n",
    "                print(\"You can only choose a integer number between {} and {}\".format(Range_min, Range_max))\n",
    "        except ValueError:\n",
    "            print(\"This is not a number! Please only input a number between {} and {}\".format(Range_min, Range_max))"
   ]
  },
  {
   "cell_type": "code",
   "execution_count": 120,
   "metadata": {},
   "outputs": [],
   "source": [
    "def guess_a_number():\n",
    "    count = 0\n",
    "    bingo = 0\n",
    "    Result = pc_define_number()  \n",
    "    while (count < Max_guess_time) and (bingo == 0):\n",
    "        Guess = int(give_a_guess())\n",
    "        if Result == Guess:\n",
    "            bingo += 1        \n",
    "        elif Result < Guess:\n",
    "            count += 1\n",
    "            print(\"Maybe a bit lower?\")\n",
    "        else:\n",
    "            count += 1\n",
    "            print(\"hahaha, I am bigger than your guess~\") \n",
    "\n",
    "    if bingo == 1:\n",
    "        print(\"Bingo!! You should buy a lottery!\")\n",
    "    else:\n",
    "        print(\"Sorry, you didn't guess the number. The correct answer is {}\".format(Result))"
   ]
  },
  {
   "cell_type": "code",
   "execution_count": 121,
   "metadata": {},
   "outputs": [
    {
     "name": "stdout",
     "output_type": "stream",
     "text": [
      "Hint: This number can not be devided by 3 or 7\n",
      "Please guess a number: 46\n",
      "Maybe a bit lower?\n",
      "Please guess a number: 34\n",
      "Maybe a bit lower?\n",
      "Please guess a number: 26\n",
      "Maybe a bit lower?\n",
      "Sorry, you didn't guess the number. The correct answer is 10\n"
     ]
    }
   ],
   "source": [
    "guess_a_number()"
   ]
  },
  {
   "cell_type": "code",
   "execution_count": null,
   "metadata": {},
   "outputs": [],
   "source": []
  }
 ],
 "metadata": {
  "kernelspec": {
   "display_name": "Python 3",
   "language": "python",
   "name": "python3"
  },
  "language_info": {
   "codemirror_mode": {
    "name": "ipython",
    "version": 3
   },
   "file_extension": ".py",
   "mimetype": "text/x-python",
   "name": "python",
   "nbconvert_exporter": "python",
   "pygments_lexer": "ipython3",
   "version": "3.6.7"
  }
 },
 "nbformat": 4,
 "nbformat_minor": 2
}
