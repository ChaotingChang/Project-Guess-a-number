{
 "cells": [
  {
   "cell_type": "markdown",
   "metadata": {},
   "source": [
    "# Guess A Number Round 1"
   ]
  },
  {
   "cell_type": "markdown",
   "metadata": {},
   "source": [
    "## This is a very simple game, you have to guess a number between 1 to 10. \n",
    "### You only have 3 chance."
   ]
  },
  {
   "cell_type": "markdown",
   "metadata": {},
   "source": [
    "------"
   ]
  },
  {
   "cell_type": "code",
   "execution_count": 1,
   "metadata": {},
   "outputs": [],
   "source": [
    "import random"
   ]
  },
  {
   "cell_type": "code",
   "execution_count": 2,
   "metadata": {},
   "outputs": [],
   "source": [
    "# Define the range of number we want to guess\n",
    "Range_min = 1\n",
    "Range_max = 10"
   ]
  },
  {
   "cell_type": "code",
   "execution_count": 3,
   "metadata": {},
   "outputs": [],
   "source": [
    "# Define a max times one can guess\n",
    "Max_guess_time = 3"
   ]
  },
  {
   "cell_type": "code",
   "execution_count": 4,
   "metadata": {},
   "outputs": [],
   "source": [
    "# Let the PC randomly create a number between 1-10 for guess\n",
    "def pc_define_number():\n",
    "    Number_to_guess = random.randint(Range_min, Range_max)\n",
    "    return Number_to_guess"
   ]
  },
  {
   "cell_type": "code",
   "execution_count": 16,
   "metadata": {},
   "outputs": [],
   "source": [
    "# Now it's our time to guess a number. Input a number we guess\n",
    "def give_a_guess():\n",
    "    while True:  # This is to make the loop come back if the input is not a integer\n",
    "        Number_I_guess = input(\"Please guess a number between 1 and 10: \")\n",
    "        if Number_I_guess.isnumeric():\n",
    "            if (int(Number_I_guess) >= Range_min and int(Number_I_guess) <= Range_max):\n",
    "                return Number_I_guess\n",
    "            else: \n",
    "                print(\"You can only choose a integer number between {} and {}\".format(Range_min, Range_max))\n",
    "        else:\n",
    "            print(\"This is not a number! Please only input a number between {} and {}\".format(Range_min, Range_max))"
   ]
  },
  {
   "cell_type": "code",
   "execution_count": null,
   "metadata": {},
   "outputs": [],
   "source": [
    "def guess_a_number():\n",
    "    count = 0\n",
    "    bingo = 0\n",
    "    Result = pc_define_number()  \n",
    "    while (count < Max_guess_time) and (bingo == 0):\n",
    "        Guess = int(give_a_guess())\n",
    "        if Result == Guess:\n",
    "            bingo += 1        \n",
    "        elif Result < Guess:\n",
    "            count += 1\n",
    "            print(\"Maybe a bit lower?\")\n",
    "        else:\n",
    "            count += 1\n",
    "            print(\"hahaha, I am bigger than your guess~\") \n",
    "\n",
    "    if bingo == 1:\n",
    "        print(\"Bingo!! You should buy a lottery!\")\n",
    "    else:\n",
    "        print(\"You didn't guess the number, the correct answer is {}\".format(Result))"
   ]
  },
  {
   "cell_type": "code",
   "execution_count": null,
   "metadata": {},
   "outputs": [],
   "source": [
    "#print(\"Welcome to the 'Guess A Number' game! You need to guess a number between {} and {} in three times\".format(Range_min, Range_max))\n",
    "\n",
    "guess_a_number()"
   ]
  },
  {
   "cell_type": "markdown",
   "metadata": {},
   "source": [
    "-----------"
   ]
  },
  {
   "cell_type": "markdown",
   "metadata": {},
   "source": [
    "------------"
   ]
  },
  {
   "cell_type": "markdown",
   "metadata": {},
   "source": [
    "# Guess A Number Round 2"
   ]
  },
  {
   "cell_type": "markdown",
   "metadata": {},
   "source": [
    "## Similar to the first game, now the range of number is biggher, but I will give you a hint. \n",
    "### Remember, you only have 5 chances."
   ]
  },
  {
   "cell_type": "code",
   "execution_count": null,
   "metadata": {},
   "outputs": [],
   "source": [
    "# Define the range of number we want to guess\n",
    "Range_min = 1\n",
    "Range_max = 50"
   ]
  },
  {
   "cell_type": "code",
   "execution_count": null,
   "metadata": {},
   "outputs": [],
   "source": [
    "# Define a max times one can guess\n",
    "Max_guess_time = 5"
   ]
  },
  {
   "cell_type": "code",
   "execution_count": null,
   "metadata": {},
   "outputs": [],
   "source": [
    "# Let the PC randomly create a number between Range_min and Range_max for guess\n",
    "def pc_define_number():\n",
    "    Number_to_guess = random.randint(Range_min, Range_max)\n",
    "    residue_by_3 = Number_to_guess % 3\n",
    "    residue_by_7 = Number_to_guess % 7\n",
    "    if (residue_by_3 == 0) and (residue_by_7 == 0):\n",
    "        print(\"Hint: This number can be devided by 3 and 7\")\n",
    "    elif (residue_by_3 == 0) and (residue_by_7 != 0):\n",
    "        print(\"Hint: This number can be devided by 3 but not by 7. If you devide this number by 7, the residue is \" + str(Number_to_guess % 7))\n",
    "        \n",
    "    elif (residue_by_3 != 0) and (residue_by_7 == 0):\n",
    "        print(\"Hint: This number can be devided by 7 but not by 3. If you devide this number by 3, the residue is \" + str(Number_to_guess % 3))\n",
    "    else:\n",
    "        print(\"Hint: This number can not be devided by 3 or 7\")\n",
    "    return Number_to_guess\n",
    "    "
   ]
  },
  {
   "cell_type": "code",
   "execution_count": null,
   "metadata": {},
   "outputs": [],
   "source": [
    "# Now it's our time to guess a number. Input a number we guess\n",
    "def give_a_guess():\n",
    "    while True:  # This is to make the loop come back if the input is not a integer\n",
    "        Number_I_guess = input(\"Please guess a number between 1 and 10: \")\n",
    "        if Number_I_guess.isnumeric():\n",
    "            if (int(Number_I_guess) >= Range_min and int(Number_I_guess) <= Range_max):\n",
    "                return Number_I_guess\n",
    "            else: \n",
    "                print(\"You can only choose a integer number between {} and {}\".format(Range_min, Range_max))\n",
    "        else:\n",
    "            print(\"This is not a number! Please only input a number between {} and {}\".format(Range_min, Range_max))"
   ]
  },
  {
   "cell_type": "code",
   "execution_count": null,
   "metadata": {},
   "outputs": [],
   "source": [
    "def guess_a_number():\n",
    "    count = 0\n",
    "    bingo = 0\n",
    "    Result = pc_define_number()  \n",
    "    while (count < Max_guess_time) and (bingo == 0):\n",
    "        Guess = int(give_a_guess())\n",
    "        if Result == Guess:\n",
    "            bingo += 1        \n",
    "        elif Result < Guess:\n",
    "            count += 1\n",
    "            print(\"Maybe a bit lower?\")\n",
    "        else:\n",
    "            count += 1\n",
    "            print(\"hahaha, I am bigger than your guess~\") \n",
    "\n",
    "    if bingo == 1:\n",
    "        print(\"Bingo!! You should buy a lottery!\")\n",
    "    else:\n",
    "        print(\"Sorry, you didn't guess the number. The correct answer is {}\".format(Result))"
   ]
  },
  {
   "cell_type": "code",
   "execution_count": null,
   "metadata": {},
   "outputs": [],
   "source": [
    "guess_a_number()"
   ]
  },
  {
   "cell_type": "markdown",
   "metadata": {},
   "source": [
    "------"
   ]
  },
  {
   "cell_type": "markdown",
   "metadata": {},
   "source": [
    "---"
   ]
  },
  {
   "cell_type": "markdown",
   "metadata": {},
   "source": [
    "# Guess a Number Round 3"
   ]
  },
  {
   "cell_type": "markdown",
   "metadata": {},
   "source": [
    "------"
   ]
  },
  {
   "cell_type": "markdown",
   "metadata": {},
   "source": [
    "## Now, you need to guess a 4 digital number from 1000 to 9999. \n",
    "## The computer will tell you how many match (A) and mis-location (B) you have. \n",
    "### You have only 5 chances to guess the right number."
   ]
  },
  {
   "cell_type": "code",
   "execution_count": 31,
   "metadata": {},
   "outputs": [],
   "source": [
    "# Define the range of number we want to guess\n",
    "Range_min = 1000\n",
    "Range_max = 9999"
   ]
  },
  {
   "cell_type": "code",
   "execution_count": 32,
   "metadata": {},
   "outputs": [],
   "source": [
    "# Define a max times one can guess\n",
    "Max_guess_time = 5"
   ]
  },
  {
   "cell_type": "code",
   "execution_count": 33,
   "metadata": {},
   "outputs": [],
   "source": [
    "# Let the PC randomly create a number between 1-10 for guess\n",
    "def pc_define_number():\n",
    "    Number_to_guess = random.randint(Range_min, Range_max)\n",
    "    return Number_to_guess"
   ]
  },
  {
   "cell_type": "code",
   "execution_count": 34,
   "metadata": {},
   "outputs": [],
   "source": [
    "# Now it's our time to guess a number. Input a number we guess\n",
    "def give_a_guess():\n",
    "    while True:  # This is to make the loop come back if the input is not a integer\n",
    "        Number_I_guess = input(\"Please guess a number between 1000 and 9999: \")\n",
    "        if Number_I_guess.isnumeric():\n",
    "            if (int(Number_I_guess) >= Range_min and int(Number_I_guess) <= Range_max):\n",
    "                return Number_I_guess\n",
    "            else: \n",
    "                print(\"You can only choose a integer number between {} and {}\".format(Range_min, Range_max))\n",
    "        else:\n",
    "            print(\"This is not a number! Please only input a number between {} and {}\".format(Range_min, Range_max))"
   ]
  },
  {
   "cell_type": "code",
   "execution_count": 35,
   "metadata": {},
   "outputs": [],
   "source": [
    "# To pre-test if the any of the guess number coincide with the pc-defined number. And if the number coincide, tell me how many are they.\n",
    "def check_guess(give_a_guess, pc_define_number):\n",
    "    input_split = list(str(give_a_guess))\n",
    "    pc_number_split = list(str(pc_define_number))\n",
    "    contained_any_number = 0\n",
    "    for i in range(len(input_split)):\n",
    "        if input_split[i] in pc_number_split:\n",
    "            contained_any_number += 1\n",
    "    return contained_any_number"
   ]
  },
  {
   "cell_type": "code",
   "execution_count": 74,
   "metadata": {},
   "outputs": [],
   "source": [
    "def guess_a_number2():\n",
    "    count = 0\n",
    "    bingo = 0\n",
    "    Result = str(pc_define_number())\n",
    "    Result2 = Result\n",
    "    while (count < Max_guess_time) and (bingo == 0):\n",
    "        print(Result)\n",
    "        if check_guess(give_a_guess, pc_define_number) > 0:\n",
    "            correct = 0\n",
    "            wrong_position = 0\n",
    "            Guess = give_a_guess()\n",
    "            if Result == Guess:\n",
    "                bingo += 1\n",
    "            else:\n",
    "                for digital in range(len(Result)):\n",
    "                    Result = Result2\n",
    "                    if Result[digital] == Guess[digital]:\n",
    "                        correct += 1\n",
    "                        Result = Result.replace(Result[digital], \" \")\n",
    "                        Guess = Guess.replace(Guess[digital], \" \")\n",
    "                        print(Result)\n",
    "                        print(Guess)\n",
    "                    elif (Guess[digital] in Result):\n",
    "                        wrong_position += 1\n",
    "                        Result = Result.replace(Guess[digital],\" \")\n",
    "                        Guess = Guess.replace(Guess[digital], \" \")\n",
    "\n",
    "            count += 1\n",
    "            print(f\"Your guess contains {correct}A{wrong_position}b\")\n",
    "\n",
    "        else:\n",
    "            print(\"Your guess contains 0A0B\")\n",
    "\n",
    "    if bingo == 1:\n",
    "        print(\"Bingo!! You should buy a lottery!\")\n",
    "    else:\n",
    "        print(\"Sorry, you didn't guess the number. The correct answer is {}\".format(Result2))"
   ]
  },
  {
   "cell_type": "code",
   "execution_count": 75,
   "metadata": {},
   "outputs": [
    {
     "name": "stdout",
     "output_type": "stream",
     "text": [
      "9101\n",
      "Please guess a number between 1000 and 9999: 9100\n",
      " 101\n",
      " 100\n",
      "9 0 \n",
      "  00\n",
      "91 1\n",
      "    \n",
      "Your guess contains 3A0b\n",
      "9101\n",
      "Please guess a number between 1000 and 9999: 1901\n",
      "91 1\n",
      "    \n",
      "Your guess contains 1A2b\n",
      "9101\n"
     ]
    },
    {
     "ename": "KeyboardInterrupt",
     "evalue": "",
     "output_type": "error",
     "traceback": [
      "\u001b[0;31m---------------------------------------------------------------------------\u001b[0m",
      "\u001b[0;31mKeyboardInterrupt\u001b[0m                         Traceback (most recent call last)",
      "\u001b[0;32m/usr/local/lib/python3.6/dist-packages/ipykernel/kernelbase.py\u001b[0m in \u001b[0;36m_input_request\u001b[0;34m(self, prompt, ident, parent, password)\u001b[0m\n\u001b[1;32m    884\u001b[0m             \u001b[0;32mtry\u001b[0m\u001b[0;34m:\u001b[0m\u001b[0;34m\u001b[0m\u001b[0;34m\u001b[0m\u001b[0m\n\u001b[0;32m--> 885\u001b[0;31m                 \u001b[0mident\u001b[0m\u001b[0;34m,\u001b[0m \u001b[0mreply\u001b[0m \u001b[0;34m=\u001b[0m \u001b[0mself\u001b[0m\u001b[0;34m.\u001b[0m\u001b[0msession\u001b[0m\u001b[0;34m.\u001b[0m\u001b[0mrecv\u001b[0m\u001b[0;34m(\u001b[0m\u001b[0mself\u001b[0m\u001b[0;34m.\u001b[0m\u001b[0mstdin_socket\u001b[0m\u001b[0;34m,\u001b[0m \u001b[0;36m0\u001b[0m\u001b[0;34m)\u001b[0m\u001b[0;34m\u001b[0m\u001b[0;34m\u001b[0m\u001b[0m\n\u001b[0m\u001b[1;32m    886\u001b[0m             \u001b[0;32mexcept\u001b[0m \u001b[0mException\u001b[0m\u001b[0;34m:\u001b[0m\u001b[0;34m\u001b[0m\u001b[0;34m\u001b[0m\u001b[0m\n",
      "\u001b[0;32m/usr/local/lib/python3.6/dist-packages/jupyter_client/session.py\u001b[0m in \u001b[0;36mrecv\u001b[0;34m(self, socket, mode, content, copy)\u001b[0m\n\u001b[1;32m    802\u001b[0m         \u001b[0;32mtry\u001b[0m\u001b[0;34m:\u001b[0m\u001b[0;34m\u001b[0m\u001b[0;34m\u001b[0m\u001b[0m\n\u001b[0;32m--> 803\u001b[0;31m             \u001b[0mmsg_list\u001b[0m \u001b[0;34m=\u001b[0m \u001b[0msocket\u001b[0m\u001b[0;34m.\u001b[0m\u001b[0mrecv_multipart\u001b[0m\u001b[0;34m(\u001b[0m\u001b[0mmode\u001b[0m\u001b[0;34m,\u001b[0m \u001b[0mcopy\u001b[0m\u001b[0;34m=\u001b[0m\u001b[0mcopy\u001b[0m\u001b[0;34m)\u001b[0m\u001b[0;34m\u001b[0m\u001b[0;34m\u001b[0m\u001b[0m\n\u001b[0m\u001b[1;32m    804\u001b[0m         \u001b[0;32mexcept\u001b[0m \u001b[0mzmq\u001b[0m\u001b[0;34m.\u001b[0m\u001b[0mZMQError\u001b[0m \u001b[0;32mas\u001b[0m \u001b[0me\u001b[0m\u001b[0;34m:\u001b[0m\u001b[0;34m\u001b[0m\u001b[0;34m\u001b[0m\u001b[0m\n",
      "\u001b[0;32m/usr/local/lib/python3.6/dist-packages/zmq/sugar/socket.py\u001b[0m in \u001b[0;36mrecv_multipart\u001b[0;34m(self, flags, copy, track)\u001b[0m\n\u001b[1;32m    469\u001b[0m         \"\"\"\n\u001b[0;32m--> 470\u001b[0;31m         \u001b[0mparts\u001b[0m \u001b[0;34m=\u001b[0m \u001b[0;34m[\u001b[0m\u001b[0mself\u001b[0m\u001b[0;34m.\u001b[0m\u001b[0mrecv\u001b[0m\u001b[0;34m(\u001b[0m\u001b[0mflags\u001b[0m\u001b[0;34m,\u001b[0m \u001b[0mcopy\u001b[0m\u001b[0;34m=\u001b[0m\u001b[0mcopy\u001b[0m\u001b[0;34m,\u001b[0m \u001b[0mtrack\u001b[0m\u001b[0;34m=\u001b[0m\u001b[0mtrack\u001b[0m\u001b[0;34m)\u001b[0m\u001b[0;34m]\u001b[0m\u001b[0;34m\u001b[0m\u001b[0;34m\u001b[0m\u001b[0m\n\u001b[0m\u001b[1;32m    471\u001b[0m         \u001b[0;31m# have first part already, only loop while more to receive\u001b[0m\u001b[0;34m\u001b[0m\u001b[0;34m\u001b[0m\u001b[0;34m\u001b[0m\u001b[0m\n",
      "\u001b[0;32mzmq/backend/cython/socket.pyx\u001b[0m in \u001b[0;36mzmq.backend.cython.socket.Socket.recv\u001b[0;34m()\u001b[0m\n",
      "\u001b[0;32mzmq/backend/cython/socket.pyx\u001b[0m in \u001b[0;36mzmq.backend.cython.socket.Socket.recv\u001b[0;34m()\u001b[0m\n",
      "\u001b[0;32mzmq/backend/cython/socket.pyx\u001b[0m in \u001b[0;36mzmq.backend.cython.socket._recv_copy\u001b[0;34m()\u001b[0m\n",
      "\u001b[0;32m/usr/local/lib/python3.6/dist-packages/zmq/backend/cython/checkrc.pxd\u001b[0m in \u001b[0;36mzmq.backend.cython.checkrc._check_rc\u001b[0;34m()\u001b[0m\n",
      "\u001b[0;31mKeyboardInterrupt\u001b[0m: ",
      "\nDuring handling of the above exception, another exception occurred:\n",
      "\u001b[0;31mKeyboardInterrupt\u001b[0m                         Traceback (most recent call last)",
      "\u001b[0;32m<ipython-input-75-da3c2eab3f6d>\u001b[0m in \u001b[0;36m<module>\u001b[0;34m\u001b[0m\n\u001b[0;32m----> 1\u001b[0;31m \u001b[0mguess_a_number2\u001b[0m\u001b[0;34m(\u001b[0m\u001b[0;34m)\u001b[0m\u001b[0;34m\u001b[0m\u001b[0;34m\u001b[0m\u001b[0m\n\u001b[0m",
      "\u001b[0;32m<ipython-input-74-76118901326b>\u001b[0m in \u001b[0;36mguess_a_number2\u001b[0;34m()\u001b[0m\n\u001b[1;32m      9\u001b[0m             \u001b[0mcorrect\u001b[0m \u001b[0;34m=\u001b[0m \u001b[0;36m0\u001b[0m\u001b[0;34m\u001b[0m\u001b[0;34m\u001b[0m\u001b[0m\n\u001b[1;32m     10\u001b[0m             \u001b[0mwrong_position\u001b[0m \u001b[0;34m=\u001b[0m \u001b[0;36m0\u001b[0m\u001b[0;34m\u001b[0m\u001b[0;34m\u001b[0m\u001b[0m\n\u001b[0;32m---> 11\u001b[0;31m             \u001b[0mGuess\u001b[0m \u001b[0;34m=\u001b[0m \u001b[0mgive_a_guess\u001b[0m\u001b[0;34m(\u001b[0m\u001b[0;34m)\u001b[0m\u001b[0;34m\u001b[0m\u001b[0;34m\u001b[0m\u001b[0m\n\u001b[0m\u001b[1;32m     12\u001b[0m             \u001b[0;32mif\u001b[0m \u001b[0mResult\u001b[0m \u001b[0;34m==\u001b[0m \u001b[0mGuess\u001b[0m\u001b[0;34m:\u001b[0m\u001b[0;34m\u001b[0m\u001b[0;34m\u001b[0m\u001b[0m\n\u001b[1;32m     13\u001b[0m                 \u001b[0mbingo\u001b[0m \u001b[0;34m+=\u001b[0m \u001b[0;36m1\u001b[0m\u001b[0;34m\u001b[0m\u001b[0;34m\u001b[0m\u001b[0m\n",
      "\u001b[0;32m<ipython-input-34-59c92374c1bc>\u001b[0m in \u001b[0;36mgive_a_guess\u001b[0;34m()\u001b[0m\n\u001b[1;32m      2\u001b[0m \u001b[0;32mdef\u001b[0m \u001b[0mgive_a_guess\u001b[0m\u001b[0;34m(\u001b[0m\u001b[0;34m)\u001b[0m\u001b[0;34m:\u001b[0m\u001b[0;34m\u001b[0m\u001b[0;34m\u001b[0m\u001b[0m\n\u001b[1;32m      3\u001b[0m     \u001b[0;32mwhile\u001b[0m \u001b[0;32mTrue\u001b[0m\u001b[0;34m:\u001b[0m  \u001b[0;31m# This is to make the loop come back if the input is not a integer\u001b[0m\u001b[0;34m\u001b[0m\u001b[0;34m\u001b[0m\u001b[0m\n\u001b[0;32m----> 4\u001b[0;31m         \u001b[0mNumber_I_guess\u001b[0m \u001b[0;34m=\u001b[0m \u001b[0minput\u001b[0m\u001b[0;34m(\u001b[0m\u001b[0;34m\"Please guess a number between 1000 and 9999: \"\u001b[0m\u001b[0;34m)\u001b[0m\u001b[0;34m\u001b[0m\u001b[0;34m\u001b[0m\u001b[0m\n\u001b[0m\u001b[1;32m      5\u001b[0m         \u001b[0;32mif\u001b[0m \u001b[0mNumber_I_guess\u001b[0m\u001b[0;34m.\u001b[0m\u001b[0misnumeric\u001b[0m\u001b[0;34m(\u001b[0m\u001b[0;34m)\u001b[0m\u001b[0;34m:\u001b[0m\u001b[0;34m\u001b[0m\u001b[0;34m\u001b[0m\u001b[0m\n\u001b[1;32m      6\u001b[0m             \u001b[0;32mif\u001b[0m \u001b[0;34m(\u001b[0m\u001b[0mint\u001b[0m\u001b[0;34m(\u001b[0m\u001b[0mNumber_I_guess\u001b[0m\u001b[0;34m)\u001b[0m \u001b[0;34m>=\u001b[0m \u001b[0mRange_min\u001b[0m \u001b[0;32mand\u001b[0m \u001b[0mint\u001b[0m\u001b[0;34m(\u001b[0m\u001b[0mNumber_I_guess\u001b[0m\u001b[0;34m)\u001b[0m \u001b[0;34m<=\u001b[0m \u001b[0mRange_max\u001b[0m\u001b[0;34m)\u001b[0m\u001b[0;34m:\u001b[0m\u001b[0;34m\u001b[0m\u001b[0;34m\u001b[0m\u001b[0m\n",
      "\u001b[0;32m/usr/local/lib/python3.6/dist-packages/ipykernel/kernelbase.py\u001b[0m in \u001b[0;36mraw_input\u001b[0;34m(self, prompt)\u001b[0m\n\u001b[1;32m    858\u001b[0m             \u001b[0mself\u001b[0m\u001b[0;34m.\u001b[0m\u001b[0m_parent_ident\u001b[0m\u001b[0;34m,\u001b[0m\u001b[0;34m\u001b[0m\u001b[0;34m\u001b[0m\u001b[0m\n\u001b[1;32m    859\u001b[0m             \u001b[0mself\u001b[0m\u001b[0;34m.\u001b[0m\u001b[0m_parent_header\u001b[0m\u001b[0;34m,\u001b[0m\u001b[0;34m\u001b[0m\u001b[0;34m\u001b[0m\u001b[0m\n\u001b[0;32m--> 860\u001b[0;31m             \u001b[0mpassword\u001b[0m\u001b[0;34m=\u001b[0m\u001b[0;32mFalse\u001b[0m\u001b[0;34m,\u001b[0m\u001b[0;34m\u001b[0m\u001b[0;34m\u001b[0m\u001b[0m\n\u001b[0m\u001b[1;32m    861\u001b[0m         )\n\u001b[1;32m    862\u001b[0m \u001b[0;34m\u001b[0m\u001b[0m\n",
      "\u001b[0;32m/usr/local/lib/python3.6/dist-packages/ipykernel/kernelbase.py\u001b[0m in \u001b[0;36m_input_request\u001b[0;34m(self, prompt, ident, parent, password)\u001b[0m\n\u001b[1;32m    888\u001b[0m             \u001b[0;32mexcept\u001b[0m \u001b[0mKeyboardInterrupt\u001b[0m\u001b[0;34m:\u001b[0m\u001b[0;34m\u001b[0m\u001b[0;34m\u001b[0m\u001b[0m\n\u001b[1;32m    889\u001b[0m                 \u001b[0;31m# re-raise KeyboardInterrupt, to truncate traceback\u001b[0m\u001b[0;34m\u001b[0m\u001b[0;34m\u001b[0m\u001b[0;34m\u001b[0m\u001b[0m\n\u001b[0;32m--> 890\u001b[0;31m                 \u001b[0;32mraise\u001b[0m \u001b[0mKeyboardInterrupt\u001b[0m\u001b[0;34m\u001b[0m\u001b[0;34m\u001b[0m\u001b[0m\n\u001b[0m\u001b[1;32m    891\u001b[0m             \u001b[0;32melse\u001b[0m\u001b[0;34m:\u001b[0m\u001b[0;34m\u001b[0m\u001b[0;34m\u001b[0m\u001b[0m\n\u001b[1;32m    892\u001b[0m                 \u001b[0;32mbreak\u001b[0m\u001b[0;34m\u001b[0m\u001b[0;34m\u001b[0m\u001b[0m\n",
      "\u001b[0;31mKeyboardInterrupt\u001b[0m: "
     ]
    }
   ],
   "source": [
    "guess_a_number2()"
   ]
  },
  {
   "cell_type": "code",
   "execution_count": 57,
   "metadata": {},
   "outputs": [
    {
     "name": "stdout",
     "output_type": "stream",
     "text": [
      "4014\n"
     ]
    }
   ],
   "source": [
    "Result = str(pc_define_number())\n",
    "print(Result)\n",
    "#Guess.replace(Guess[digital], \" \""
   ]
  },
  {
   "cell_type": "code",
   "execution_count": 61,
   "metadata": {},
   "outputs": [
    {
     "data": {
      "text/plain": [
       "'4 14'"
      ]
     },
     "execution_count": 61,
     "metadata": {},
     "output_type": "execute_result"
    }
   ],
   "source": [
    "Guess = \"4041\"\n",
    "a = Guess[1]\n",
    "Result = Result.replace(a,\" \")\n",
    "Result"
   ]
  },
  {
   "cell_type": "code",
   "execution_count": null,
   "metadata": {},
   "outputs": [],
   "source": []
  }
 ],
 "metadata": {
  "kernelspec": {
   "display_name": "Python 3",
   "language": "python",
   "name": "python3"
  },
  "language_info": {
   "codemirror_mode": {
    "name": "ipython",
    "version": 3
   },
   "file_extension": ".py",
   "mimetype": "text/x-python",
   "name": "python",
   "nbconvert_exporter": "python",
   "pygments_lexer": "ipython3",
   "version": "3.6.7"
  }
 },
 "nbformat": 4,
 "nbformat_minor": 2
}
